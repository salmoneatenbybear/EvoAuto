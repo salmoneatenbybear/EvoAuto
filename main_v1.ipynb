{
  "cells": [
    {
      "cell_type": "markdown",
      "metadata": {
        "id": "dD8HiFEI10Jf"
      },
      "source": [
        "ATML & EC Mini Project\n",
        "\n",
        "Topic: EvoAuto - Evolving Autoencoders for Anomaly Detection\n",
        "\n",
        "Name: Aditya Singh & Sannidhi Nair\n",
        "\n",
        "Roll No: I005 & I056"
      ]
    },
    {
      "cell_type": "markdown",
      "metadata": {
        "id": "Zp8Amg5l-vMq"
      },
      "source": [
        "Credit Card Fraud Detection Dataset: https://www.kaggle.com/datasets/mlg-ulb/creditcardfraud"
      ]
    },
    {
      "cell_type": "markdown",
      "metadata": {
        "id": "VaaDLWb717-c"
      },
      "source": [
        "# Loading & Preprocessing Credit Card Fraud Detection Dataset"
      ]
    },
    {
      "cell_type": "code",
      "execution_count": null,
      "metadata": {
        "id": "zgu7P7sJzpz4"
      },
      "outputs": [],
      "source": [
        "import pandas as pd\n",
        "from sklearn.preprocessing import StandardScaler\n",
        "from sklearn.model_selection import train_test_split\n",
        "\n",
        "\n",
        "df = pd.read_csv('/creditcard.csv')\n",
        "\n",
        "\n",
        "X = df.drop(columns=['Time', 'Class'])\n",
        "y = df['Class']\n",
        "\n",
        "\n",
        "scaler = StandardScaler()\n",
        "X_scaled = scaler.fit_transform(X)\n",
        "\n",
        "\n",
        "X_train, X_test, y_train, y_test = train_test_split(X_scaled, y, test_size=0.2, random_state=42)\n",
        "\n",
        "\n",
        "X_train = X_train[y_train == 0]"
      ]
    },
    {
      "cell_type": "markdown",
      "metadata": {
        "id": "FMp0osOj15DS"
      },
      "source": [
        "# Autoencoder"
      ]
    },
    {
      "cell_type": "code",
      "execution_count": null,
      "metadata": {
        "id": "DlaI4TTwz8q-"
      },
      "outputs": [],
      "source": [
        "import numpy as np\n",
        "\n",
        "\n",
        "def sigmoid(x):\n",
        "    return 1 / (1 + np.exp(-x))\n",
        "\n",
        "def sigmoid_derivative(x):\n",
        "    return sigmoid(x) * (1 - sigmoid(x))\n",
        "\n",
        "\n",
        "def mse(y_true, y_pred):\n",
        "    return np.mean((y_true - y_pred) ** 2)\n",
        "\n",
        "\n",
        "class Autoencoder:\n",
        "    def __init__(self, input_size, hidden_size, bottleneck_size, learning_rate=0.01):\n",
        "        self.lr = learning_rate\n",
        "\n",
        "\n",
        "        self.W1 = np.random.randn(input_size, hidden_size) * 0.01\n",
        "        self.b1 = np.zeros((1, hidden_size))\n",
        "\n",
        "        self.W2 = np.random.randn(hidden_size, bottleneck_size) * 0.01\n",
        "        self.b2 = np.zeros((1, bottleneck_size))\n",
        "\n",
        "        self.W3 = np.random.randn(bottleneck_size, hidden_size) * 0.01\n",
        "        self.b3 = np.zeros((1, hidden_size))\n",
        "\n",
        "        self.W4 = np.random.randn(hidden_size, input_size) * 0.01\n",
        "        self.b4 = np.zeros((1, input_size))\n",
        "\n",
        "    def forward(self, X):\n",
        "\n",
        "        self.z1 = np.dot(X, self.W1) + self.b1\n",
        "        self.a1 = sigmoid(self.z1)\n",
        "\n",
        "        self.z2 = np.dot(self.a1, self.W2) + self.b2\n",
        "        self.a2 = sigmoid(self.z2)\n",
        "\n",
        "\n",
        "        self.z3 = np.dot(self.a2, self.W3) + self.b3\n",
        "        self.a3 = sigmoid(self.z3)\n",
        "\n",
        "        self.z4 = np.dot(self.a3, self.W4) + self.b4\n",
        "        self.output = sigmoid(self.z4)\n",
        "\n",
        "        return self.output\n",
        "\n",
        "    def backward(self, X):\n",
        "        m = X.shape[0]\n",
        "        error = self.output - X\n",
        "        d_output = error * sigmoid_derivative(self.z4)\n",
        "\n",
        "        dW4 = np.dot(self.a3.T, d_output) / m\n",
        "        db4 = np.sum(d_output, axis=0, keepdims=True) / m\n",
        "\n",
        "        d_a3 = np.dot(d_output, self.W4.T) * sigmoid_derivative(self.z3)\n",
        "        dW3 = np.dot(self.a2.T, d_a3) / m\n",
        "        db3 = np.sum(d_a3, axis=0, keepdims=True) / m\n",
        "\n",
        "        d_a2 = np.dot(d_a3, self.W3.T) * sigmoid_derivative(self.z2)\n",
        "        dW2 = np.dot(self.a1.T, d_a2) / m\n",
        "        db2 = np.sum(d_a2, axis=0, keepdims=True) / m\n",
        "\n",
        "        d_a1 = np.dot(d_a2, self.W2.T) * sigmoid_derivative(self.z1)\n",
        "        dW1 = np.dot(X.T, d_a1) / m\n",
        "        db1 = np.sum(d_a1, axis=0, keepdims=True) / m\n",
        "\n",
        "\n",
        "        self.W4 -= self.lr * dW4\n",
        "        self.b4 -= self.lr * db4\n",
        "\n",
        "        self.W3 -= self.lr * dW3\n",
        "        self.b3 -= self.lr * db3\n",
        "\n",
        "        self.W2 -= self.lr * dW2\n",
        "        self.b2 -= self.lr * db2\n",
        "\n",
        "        self.W1 -= self.lr * dW1\n",
        "        self.b1 -= self.lr * db1\n",
        "\n",
        "    def train(self, X, epochs=50):\n",
        "        for epoch in range(epochs):\n",
        "            out = self.forward(X)\n",
        "            loss = mse(X, out)\n",
        "            self.backward(X)\n",
        "            if (epoch + 1) % 10 == 0 or epoch == 0:\n",
        "                print(f\"Epoch {epoch+1}, Loss: {loss:.6f}\")\n",
        "\n",
        "    def get_reconstruction_error(self, X):\n",
        "        out = self.forward(X)\n",
        "        return np.mean((X - out) ** 2, axis=1)"
      ]
    },
    {
      "cell_type": "code",
      "execution_count": null,
      "metadata": {
        "colab": {
          "base_uri": "https://localhost:8080/"
        },
        "id": "8GO9-kwU0FGW",
        "outputId": "4bf807c7-107b-4ed8-9d24-5bdbd7504c4e"
      },
      "outputs": [
        {
          "name": "stdout",
          "output_type": "stream",
          "text": [
            "Epoch 1, Loss: 1.213260\n",
            "Epoch 10, Loss: 1.200995\n",
            "Epoch 20, Loss: 1.188084\n",
            "Epoch 30, Loss: 1.175897\n",
            "Epoch 40, Loss: 1.164398\n",
            "Epoch 50, Loss: 1.153555\n"
          ]
        }
      ],
      "source": [
        "\n",
        "input_size = X_train.shape[1]\n",
        "hidden_size = 14\n",
        "bottleneck_size = 7\n",
        "learning_rate = 0.01\n",
        "\n",
        "\n",
        "ae = Autoencoder(input_size, hidden_size, bottleneck_size, learning_rate)\n",
        "ae.train(X_train, epochs=50)"
      ]
    },
    {
      "cell_type": "markdown",
      "metadata": {
        "id": "xoTfckE41vb1"
      },
      "source": [
        "# Genetic Algorithm"
      ]
    },
    {
      "cell_type": "code",
      "execution_count": null,
      "metadata": {
        "id": "M8PF_3Af0JfJ"
      },
      "outputs": [],
      "source": [
        "import random\n",
        "import matplotlib.pyplot as plt\n",
        "\n",
        "\n",
        "param_ranges = {\n",
        "    \"hidden_size\": [8, 16, 32],\n",
        "    \"bottleneck_size\": [4, 8, 16],\n",
        "    \"learning_rate\": [0.001, 0.005, 0.01, 0.05]\n",
        "}\n",
        "\n",
        "def create_individual():\n",
        "    return {\n",
        "        \"hidden_size\": random.choice(param_ranges[\"hidden_size\"]),\n",
        "        \"bottleneck_size\": random.choice(param_ranges[\"bottleneck_size\"]),\n",
        "        \"learning_rate\": random.choice(param_ranges[\"learning_rate\"])\n",
        "    }\n",
        "\n",
        "def evaluate_individual(individual, X_val):\n",
        "    ae = Autoencoder(\n",
        "        input_size=X_val.shape[1],\n",
        "        hidden_size=individual[\"hidden_size\"],\n",
        "        bottleneck_size=individual[\"bottleneck_size\"],\n",
        "        learning_rate=individual[\"learning_rate\"]\n",
        "    )\n",
        "    ae.train(X_val, epochs=10)\n",
        "    loss = np.mean(ae.get_reconstruction_error(X_val))\n",
        "    return loss"
      ]
    },
    {
      "cell_type": "code",
      "execution_count": null,
      "metadata": {
        "id": "KfQ2V7o31Oz5"
      },
      "outputs": [],
      "source": [
        "def crossover(parent1, parent2):\n",
        "    return {\n",
        "        key: random.choice([parent1[key], parent2[key]]) for key in parent1\n",
        "    }\n",
        "\n",
        "def mutate(individual, mutation_rate=0.1):\n",
        "    for key in individual:\n",
        "        if random.random() < mutation_rate:\n",
        "            individual[key] = random.choice(param_ranges[key])\n",
        "    return individual\n",
        "\n",
        "def run_ga(X_val, population_size=6, generations=5):\n",
        "    population = [create_individual() for _ in range(population_size)]\n",
        "    best_losses = []\n",
        "\n",
        "    for generation in range(generations):\n",
        "        print(f\"\\n🔄 Generation {generation+1}\")\n",
        "        fitness_scores = []\n",
        "        for individual in population:\n",
        "            loss = evaluate_individual(individual, X_val)\n",
        "            fitness_scores.append((loss, individual))\n",
        "            print(f\"{individual} ➤ Loss: {loss:.4f}\")\n",
        "\n",
        "        fitness_scores.sort(key=lambda x: x[0])\n",
        "        best_losses.append(fitness_scores[0][0])\n",
        "\n",
        "        top_individuals = [ind for _, ind in fitness_scores[:population_size//2]]\n",
        "\n",
        "        new_population = top_individuals[:]\n",
        "        while len(new_population) < population_size:\n",
        "            parents = random.sample(top_individuals, 2)\n",
        "            child = crossover(parents[0], parents[1])\n",
        "            child = mutate(child)\n",
        "            new_population.append(child)\n",
        "\n",
        "        population = new_population\n",
        "\n",
        "\n",
        "    plt.plot(range(1, generations + 1), best_losses, marker='o')\n",
        "    plt.title(\"GA Optimization Progress\")\n",
        "    plt.xlabel(\"Generation\")\n",
        "    plt.ylabel(\"Best Loss\")\n",
        "    plt.grid(True)\n",
        "    plt.show()\n",
        "\n",
        "    best_loss, best_individual = min(fitness_scores, key=lambda x: x[0])\n",
        "    print(f\"\\n🏆 Best Hyperparameters: {best_individual} with Loss: {best_loss:.4f}\")\n",
        "    return best_individual"
      ]
    },
    {
      "cell_type": "code",
      "execution_count": null,
      "metadata": {
        "colab": {
          "base_uri": "https://localhost:8080/",
          "height": 1000
        },
        "id": "UsBrW0jR1R9i",
        "outputId": "92fe13b2-18b4-4d7c-8e42-55765deac430"
      },
      "outputs": [
        {
          "name": "stdout",
          "output_type": "stream",
          "text": [
            "\n",
            "🔄 Generation 1\n",
            "Epoch 1, Loss: 1.228980\n",
            "Epoch 10, Loss: 1.205226\n",
            "{'hidden_size': 32, 'bottleneck_size': 16, 'learning_rate': 0.01} ➤ Loss: 1.2027\n",
            "Epoch 1, Loss: 1.231934\n",
            "Epoch 10, Loss: 1.231096\n",
            "{'hidden_size': 8, 'bottleneck_size': 8, 'learning_rate': 0.001} ➤ Loss: 1.2310\n",
            "Epoch 1, Loss: 1.231663\n",
            "Epoch 10, Loss: 1.223429\n",
            "{'hidden_size': 8, 'bottleneck_size': 8, 'learning_rate': 0.01} ➤ Loss: 1.2225\n",
            "Epoch 1, Loss: 1.229340\n",
            "Epoch 10, Loss: 1.132709\n",
            "{'hidden_size': 32, 'bottleneck_size': 4, 'learning_rate': 0.05} ➤ Loss: 1.1251\n",
            "Epoch 1, Loss: 1.230636\n",
            "Epoch 10, Loss: 1.226485\n",
            "{'hidden_size': 8, 'bottleneck_size': 4, 'learning_rate': 0.005} ➤ Loss: 1.2260\n",
            "Epoch 1, Loss: 1.230102\n",
            "Epoch 10, Loss: 1.191274\n",
            "{'hidden_size': 8, 'bottleneck_size': 16, 'learning_rate': 0.05} ➤ Loss: 1.1873\n",
            "\n",
            "🔄 Generation 2\n",
            "Epoch 1, Loss: 1.232673\n",
            "Epoch 10, Loss: 1.134317\n",
            "{'hidden_size': 32, 'bottleneck_size': 4, 'learning_rate': 0.05} ➤ Loss: 1.1266\n",
            "Epoch 1, Loss: 1.230856\n",
            "Epoch 10, Loss: 1.191784\n",
            "{'hidden_size': 8, 'bottleneck_size': 16, 'learning_rate': 0.05} ➤ Loss: 1.1878\n",
            "Epoch 1, Loss: 1.230458\n",
            "Epoch 10, Loss: 1.206619\n",
            "{'hidden_size': 32, 'bottleneck_size': 16, 'learning_rate': 0.01} ➤ Loss: 1.2041\n",
            "Epoch 1, Loss: 1.232065\n",
            "Epoch 10, Loss: 1.193128\n",
            "{'hidden_size': 8, 'bottleneck_size': 4, 'learning_rate': 0.05} ➤ Loss: 1.1892\n",
            "Epoch 1, Loss: 1.231214\n",
            "Epoch 10, Loss: 1.230378\n",
            "{'hidden_size': 8, 'bottleneck_size': 4, 'learning_rate': 0.001} ➤ Loss: 1.2303\n",
            "Epoch 1, Loss: 1.230353\n",
            "Epoch 10, Loss: 1.206378\n",
            "{'hidden_size': 32, 'bottleneck_size': 16, 'learning_rate': 0.01} ➤ Loss: 1.2039\n",
            "\n",
            "🔄 Generation 3\n",
            "Epoch 1, Loss: 1.231491\n",
            "Epoch 10, Loss: 1.133744\n",
            "{'hidden_size': 32, 'bottleneck_size': 4, 'learning_rate': 0.05} ➤ Loss: 1.1261\n",
            "Epoch 1, Loss: 1.230801\n",
            "Epoch 10, Loss: 1.192104\n",
            "{'hidden_size': 8, 'bottleneck_size': 16, 'learning_rate': 0.05} ➤ Loss: 1.1881\n",
            "Epoch 1, Loss: 1.231557\n",
            "Epoch 10, Loss: 1.192904\n",
            "{'hidden_size': 8, 'bottleneck_size': 4, 'learning_rate': 0.05} ➤ Loss: 1.1890\n",
            "Epoch 1, Loss: 1.231278\n",
            "Epoch 10, Loss: 1.192679\n",
            "{'hidden_size': 8, 'bottleneck_size': 4, 'learning_rate': 0.05} ➤ Loss: 1.1888\n",
            "Epoch 1, Loss: 1.231897\n",
            "Epoch 10, Loss: 1.193061\n",
            "{'hidden_size': 8, 'bottleneck_size': 4, 'learning_rate': 0.05} ➤ Loss: 1.1891\n",
            "Epoch 1, Loss: 1.229948\n",
            "Epoch 10, Loss: 1.225825\n",
            "{'hidden_size': 8, 'bottleneck_size': 4, 'learning_rate': 0.005} ➤ Loss: 1.2254\n",
            "\n",
            "🔄 Generation 4\n",
            "Epoch 1, Loss: 1.231516\n",
            "Epoch 10, Loss: 1.133891\n",
            "{'hidden_size': 32, 'bottleneck_size': 4, 'learning_rate': 0.05} ➤ Loss: 1.1262\n",
            "Epoch 1, Loss: 1.231117\n",
            "Epoch 10, Loss: 1.192120\n",
            "{'hidden_size': 8, 'bottleneck_size': 16, 'learning_rate': 0.05} ➤ Loss: 1.1881\n",
            "Epoch 1, Loss: 1.230958\n",
            "Epoch 10, Loss: 1.192311\n",
            "{'hidden_size': 8, 'bottleneck_size': 4, 'learning_rate': 0.05} ➤ Loss: 1.1884\n",
            "Epoch 1, Loss: 1.232009\n",
            "Epoch 10, Loss: 1.134024\n",
            "{'hidden_size': 32, 'bottleneck_size': 4, 'learning_rate': 0.05} ➤ Loss: 1.1263\n",
            "Epoch 1, Loss: 1.230855\n",
            "Epoch 10, Loss: 1.226720\n",
            "{'hidden_size': 8, 'bottleneck_size': 16, 'learning_rate': 0.005} ➤ Loss: 1.2263\n",
            "Epoch 1, Loss: 1.230722\n",
            "Epoch 10, Loss: 1.229889\n",
            "{'hidden_size': 8, 'bottleneck_size': 4, 'learning_rate': 0.001} ➤ Loss: 1.2298\n",
            "\n",
            "🔄 Generation 5\n",
            "Epoch 1, Loss: 1.230684\n",
            "Epoch 10, Loss: 1.133416\n",
            "{'hidden_size': 32, 'bottleneck_size': 4, 'learning_rate': 0.05} ➤ Loss: 1.1258\n",
            "Epoch 1, Loss: 1.230786\n",
            "Epoch 10, Loss: 1.133377\n",
            "{'hidden_size': 32, 'bottleneck_size': 4, 'learning_rate': 0.05} ➤ Loss: 1.1257\n",
            "Epoch 1, Loss: 1.230490\n",
            "Epoch 10, Loss: 1.191560\n",
            "{'hidden_size': 8, 'bottleneck_size': 16, 'learning_rate': 0.05} ➤ Loss: 1.1876\n",
            "Epoch 1, Loss: 1.231600\n",
            "Epoch 10, Loss: 1.133853\n",
            "{'hidden_size': 32, 'bottleneck_size': 4, 'learning_rate': 0.05} ➤ Loss: 1.1262\n",
            "Epoch 1, Loss: 1.231216\n",
            "Epoch 10, Loss: 1.192459\n",
            "{'hidden_size': 8, 'bottleneck_size': 16, 'learning_rate': 0.05} ➤ Loss: 1.1885\n",
            "Epoch 1, Loss: 1.231713\n",
            "Epoch 10, Loss: 1.133785\n",
            "{'hidden_size': 32, 'bottleneck_size': 4, 'learning_rate': 0.05} ➤ Loss: 1.1261\n"
          ]
        },
        {
          "data": {
            "image/png": "[encoded data removed]",
            "text/plain": [
              "<Figure size 640x480 with 1 Axes>"
            ]
          },
          "metadata": {},
          "output_type": "display_data"
        },
        {
          "name": "stdout",
          "output_type": "stream",
          "text": [
            "\n",
            "🏆 Best Hyperparameters: {'hidden_size': 32, 'bottleneck_size': 4, 'learning_rate': 0.05} with Loss: 1.1257\n"
          ]
        }
      ],
      "source": [
        "from sklearn.model_selection import train_test_split\n",
        "\n",
        "X_train_ga, X_val_ga = train_test_split(X_train, test_size=0.2, random_state=42)\n",
        "\n",
        "# Run GA\n",
        "best_params = run_ga(X_val_ga)"
      ]
    },
    {
      "cell_type": "markdown",
      "metadata": {
        "id": "pH0y9q2R2I7Q"
      },
      "source": [
        "# Anomaly Detection using Reconstruction Error"
      ]
    },
    {
      "cell_type": "code",
      "execution_count": null,
      "metadata": {
        "colab": {
          "base_uri": "https://localhost:8080/"
        },
        "id": "Vnq_QE7F1Vri",
        "outputId": "7b51a3df-ac75-4792-87e9-be902b9dc5dc"
      },
      "outputs": [
        {
          "name": "stdout",
          "output_type": "stream",
          "text": [
            "Epoch 1, Loss: 1.214503\n",
            "Epoch 10, Loss: 1.116458\n",
            "Epoch 20, Loss: 1.058627\n",
            "Epoch 30, Loss: 1.028207\n",
            "Epoch 40, Loss: 1.010827\n",
            "Epoch 50, Loss: 1.000060\n"
          ]
        }
      ],
      "source": [
        "\n",
        "ae_best = Autoencoder(\n",
        "    input_size=X_train.shape[1],\n",
        "    hidden_size=best_params[\"hidden_size\"],\n",
        "    bottleneck_size=best_params[\"bottleneck_size\"],\n",
        "    learning_rate=best_params[\"learning_rate\"]\n",
        ")\n",
        "ae_best.train(X_train, epochs=50)\n",
        "\n",
        "\n",
        "reconstruction_error = ae_best.get_reconstruction_error(X_test)\n",
        "threshold = np.percentile(reconstruction_error, 95)\n",
        "y_pred = (reconstruction_error > threshold).astype(int)"
      ]
    },
    {
      "cell_type": "markdown",
      "metadata": {
        "id": "36w4BmBO2Tgw"
      },
      "source": [
        "# Metrics & Visualization"
      ]
    },
    {
      "cell_type": "markdown",
      "metadata": {
        "id": "-lFXVi-c2YMj"
      },
      "source": [
        "Classification Metrics"
      ]
    },
    {
      "cell_type": "code",
      "execution_count": null,
      "metadata": {
        "colab": {
          "base_uri": "https://localhost:8080/"
        },
        "id": "Q5TZ1F7Z2NaW",
        "outputId": "52bdc4f9-8404-4f99-a15c-7653739f5851"
      },
      "outputs": [
        {
          "name": "stdout",
          "output_type": "stream",
          "text": [
            "Accuracy : 0.951353533934904\n",
            "Precision: 0.03088803088803089\n",
            "Recall   : 0.8979591836734694\n",
            "F1 Score : 0.05972175093315236\n"
          ]
        }
      ],
      "source": [
        "from sklearn.metrics import accuracy_score, precision_score, recall_score, f1_score\n",
        "\n",
        "print(\"Accuracy :\", accuracy_score(y_test, y_pred))\n",
        "print(\"Precision:\", precision_score(y_test, y_pred))\n",
        "print(\"Recall   :\", recall_score(y_test, y_pred))\n",
        "print(\"F1 Score :\", f1_score(y_test, y_pred))"
      ]
    },
    {
      "cell_type": "markdown",
      "metadata": {
        "id": "prnOOTpP2jTT"
      },
      "source": [
        "Visualize Reconstruction Error"
      ]
    },
    {
      "cell_type": "code",
      "execution_count": null,
      "metadata": {
        "colab": {
          "base_uri": "https://localhost:8080/",
          "height": 487
        },
        "id": "q_5v80Wg2gL2",
        "outputId": "59addfd2-db1c-4606-cfa7-d2978b359e39"
      },
      "outputs": [
        {
          "data": {
            "image/png": "[encoded data removed]",
            "text/plain": [
              "<Figure size 1000x500 with 1 Axes>"
            ]
          },
          "metadata": {},
          "output_type": "display_data"
        }
      ],
      "source": [
        "plt.figure(figsize=(10, 5))\n",
        "plt.hist(reconstruction_error[y_test == 0], bins=50, alpha=0.6, label='Normal')\n",
        "plt.hist(reconstruction_error[y_test == 1], bins=50, alpha=0.6, label='Fraud')\n",
        "plt.axvline(threshold, color='red', linestyle='--', label='Threshold')\n",
        "plt.title(\"Reconstruction Error Distribution\")\n",
        "plt.xlabel(\"Reconstruction Error\")\n",
        "plt.ylabel(\"Frequency\")\n",
        "plt.legend()\n",
        "plt.grid(True)\n",
        "plt.show()"
      ]
    },
    {
      "cell_type": "code",
      "execution_count": null,
      "metadata": {
        "colab": {
          "base_uri": "https://localhost:8080/"
        },
        "id": "iypmBLRm2oa1",
        "outputId": "2376fc05-b8f2-4cac-b171-586127538977"
      },
      "outputs": [
        {
          "name": "stdout",
          "output_type": "stream",
          "text": [
            "Number of fraud samples in y_test: 98\n"
          ]
        }
      ],
      "source": [
        "print(\"Number of fraud samples in y_test:\", np.sum(y_test))"
      ]
    },
    {
      "cell_type": "markdown",
      "metadata": {
        "id": "XWWqr6Z43423"
      },
      "source": [
        "NSL-KDD Dataset:"
      ]
    },
    {
      "cell_type": "markdown",
      "metadata": {
        "id": "uPxVp5_Y3-4-"
      },
      "source": [
        "# Load & Preprocessing NSL-KDD Dataset"
      ]
    },
    {
      "cell_type": "code",
      "execution_count": null,
      "metadata": {
        "id": "Ob6QJC_u3DHv"
      },
      "outputs": [],
      "source": [
        "import pandas as pd\n",
        "import numpy as np\n",
        "from sklearn.preprocessing import StandardScaler, LabelEncoder\n",
        "from sklearn.model_selection import train_test_split\n",
        "\n",
        "\n",
        "df_train = pd.read_csv(\"/KDDTrain+.txt\", header=None)\n",
        "df_test = pd.read_csv(\"/KDDTest+.txt\", header=None)\n",
        "\n",
        "\n",
        "columns = [\n",
        "    'duration','protocol_type','service','flag','src_bytes','dst_bytes','land','wrong_fragment',\n",
        "    'urgent','hot','num_failed_logins','logged_in','num_compromised','root_shell','su_attempted',\n",
        "    'num_root','num_file_creations','num_shells','num_access_files','num_outbound_cmds',\n",
        "    'is_host_login','is_guest_login','count','srv_count','serror_rate','srv_serror_rate',\n",
        "    'rerror_rate','srv_rerror_rate','same_srv_rate','diff_srv_rate','srv_diff_host_rate',\n",
        "    'dst_host_count','dst_host_srv_count','dst_host_same_srv_rate','dst_host_diff_srv_rate',\n",
        "    'dst_host_same_src_port_rate','dst_host_srv_diff_host_rate','dst_host_serror_rate',\n",
        "    'dst_host_srv_serror_rate','dst_host_rerror_rate','dst_host_srv_rerror_rate','label','difficulty_level'\n",
        "]\n",
        "\n",
        "df_train.columns = columns\n",
        "df_test.columns = columns\n",
        "\n",
        "\n",
        "df_train['label'] = df_train['label'].apply(lambda x: 0 if x == 'normal' else 1)\n",
        "df_test['label'] = df_test['label'].apply(lambda x: 0 if x == 'normal' else 1)\n",
        "\n",
        "\n",
        "combined_df = pd.concat([df_train, df_test])\n",
        "categorical_cols = ['protocol_type', 'service', 'flag']\n",
        "\n",
        "for col in categorical_cols:\n",
        "    encoder = LabelEncoder()\n",
        "    combined_df[col] = encoder.fit_transform(combined_df[col])\n",
        "\n",
        "\n",
        "df_train = combined_df.iloc[:len(df_train)]\n",
        "df_test = combined_df.iloc[len(df_train):]\n",
        "\n",
        "\n",
        "X_train = df_train.drop(columns=['label']).values\n",
        "y_train = df_train['label'].values\n",
        "\n",
        "X_test = df_test.drop(columns=['label']).values\n",
        "y_test = df_test['label'].values\n",
        "\n",
        "\n",
        "scaler = StandardScaler()\n",
        "X_train = scaler.fit_transform(X_train)\n",
        "X_test = scaler.transform(X_test)\n",
        "\n",
        "\n",
        "X_train_normal = X_train[y_train == 0]"
      ]
    },
    {
      "cell_type": "markdown",
      "metadata": {
        "id": "i0vFe0n14cTS"
      },
      "source": [
        "# Autoencoder"
      ]
    },
    {
      "cell_type": "code",
      "execution_count": null,
      "metadata": {
        "id": "Ie_PRfKE4SIr"
      },
      "outputs": [],
      "source": [
        "import numpy as np\n",
        "\n",
        "def sigmoid(x):\n",
        "    return 1 / (1 + np.exp(-x))\n",
        "\n",
        "def sigmoid_derivative(x):\n",
        "    sx = sigmoid(x)\n",
        "    return sx * (1 - sx)\n",
        "\n",
        "def mse(y_true, y_pred):\n",
        "    return np.mean((y_true - y_pred) ** 2)\n",
        "\n",
        "class Autoencoder:\n",
        "    def __init__(self, input_size, hidden_size, bottleneck_size, learning_rate=0.01):\n",
        "        self.lr = learning_rate\n",
        "\n",
        "        self.W1 = np.random.randn(input_size, hidden_size) * 0.01\n",
        "        self.b1 = np.zeros((1, hidden_size))\n",
        "\n",
        "        self.W2 = np.random.randn(hidden_size, bottleneck_size) * 0.01\n",
        "        self.b2 = np.zeros((1, bottleneck_size))\n",
        "\n",
        "        self.W3 = np.random.randn(bottleneck_size, hidden_size) * 0.01\n",
        "        self.b3 = np.zeros((1, hidden_size))\n",
        "\n",
        "        self.W4 = np.random.randn(hidden_size, input_size) * 0.01\n",
        "        self.b4 = np.zeros((1, input_size))\n",
        "\n",
        "    def forward(self, X):\n",
        "        self.z1 = np.dot(X, self.W1) + self.b1\n",
        "        self.a1 = sigmoid(self.z1)\n",
        "\n",
        "        self.z2 = np.dot(self.a1, self.W2) + self.b2\n",
        "        self.a2 = sigmoid(self.z2)\n",
        "\n",
        "        self.z3 = np.dot(self.a2, self.W3) + self.b3\n",
        "        self.a3 = sigmoid(self.z3)\n",
        "\n",
        "        self.z4 = np.dot(self.a3, self.W4) + self.b4\n",
        "        self.output = sigmoid(self.z4)\n",
        "\n",
        "        return self.output\n",
        "\n",
        "    def backward(self, X):\n",
        "        m = X.shape[0]\n",
        "        error = self.output - X\n",
        "        d_output = error * sigmoid_derivative(self.z4)\n",
        "\n",
        "        dW4 = np.dot(self.a3.T, d_output) / m\n",
        "        db4 = np.sum(d_output, axis=0, keepdims=True) / m\n",
        "\n",
        "        d_a3 = np.dot(d_output, self.W4.T) * sigmoid_derivative(self.z3)\n",
        "        dW3 = np.dot(self.a2.T, d_a3) / m\n",
        "        db3 = np.sum(d_a3, axis=0, keepdims=True) / m\n",
        "\n",
        "        d_a2 = np.dot(d_a3, self.W3.T) * sigmoid_derivative(self.z2)\n",
        "        dW2 = np.dot(self.a1.T, d_a2) / m\n",
        "        db2 = np.sum(d_a2, axis=0, keepdims=True) / m\n",
        "\n",
        "        d_a1 = np.dot(d_a2, self.W2.T) * sigmoid_derivative(self.z1)\n",
        "        dW1 = np.dot(X.T, d_a1) / m\n",
        "        db1 = np.sum(d_a1, axis=0, keepdims=True) / m\n",
        "\n",
        "        self.W4 -= self.lr * dW4\n",
        "        self.b4 -= self.lr * db4\n",
        "        self.W3 -= self.lr * dW3\n",
        "        self.b3 -= self.lr * db3\n",
        "        self.W2 -= self.lr * dW2\n",
        "        self.b2 -= self.lr * db2\n",
        "        self.W1 -= self.lr * dW1\n",
        "        self.b1 -= self.lr * db1\n",
        "\n",
        "    def train(self, X, epochs=50):\n",
        "        for epoch in range(epochs):\n",
        "            self.forward(X)\n",
        "            loss = mse(X, self.output)\n",
        "            self.backward(X)\n",
        "            if (epoch + 1) % 10 == 0 or epoch == 0:\n",
        "                print(f\"Epoch {epoch+1}, Loss: {loss:.6f}\")\n",
        "\n",
        "    def get_reconstruction_error(self, X):\n",
        "        out = self.forward(X)\n",
        "        return np.mean((X - out) ** 2, axis=1)"
      ]
    },
    {
      "cell_type": "markdown",
      "metadata": {
        "id": "6exkDWUt5JZx"
      },
      "source": [
        "# Genetic Algorithm"
      ]
    },
    {
      "cell_type": "code",
      "execution_count": null,
      "metadata": {
        "id": "7ZlfPytN4tP1"
      },
      "outputs": [],
      "source": [
        "import random\n",
        "import matplotlib.pyplot as plt\n",
        "\n",
        "\n",
        "param_ranges = {\n",
        "    \"hidden_size\": [8, 16, 32],\n",
        "    \"bottleneck_size\": [4, 8, 16],\n",
        "    \"learning_rate\": [0.001, 0.005, 0.01, 0.05]\n",
        "}\n",
        "\n",
        "def create_individual():\n",
        "    return {\n",
        "        \"hidden_size\": random.choice(param_ranges[\"hidden_size\"]),\n",
        "        \"bottleneck_size\": random.choice(param_ranges[\"bottleneck_size\"]),\n",
        "        \"learning_rate\": random.choice(param_ranges[\"learning_rate\"])\n",
        "    }\n",
        "\n",
        "def evaluate_individual(individual, X_val):\n",
        "    ae = Autoencoder(\n",
        "        input_size=X_val.shape[1],\n",
        "        hidden_size=individual[\"hidden_size\"],\n",
        "        bottleneck_size=individual[\"bottleneck_size\"],\n",
        "        learning_rate=individual[\"learning_rate\"]\n",
        "    )\n",
        "    ae.train(X_val, epochs=10)\n",
        "    loss = np.mean(ae.get_reconstruction_error(X_val))\n",
        "    return loss"
      ]
    },
    {
      "cell_type": "code",
      "execution_count": null,
      "metadata": {
        "id": "giyICWjU5TDD"
      },
      "outputs": [],
      "source": [
        "def crossover(parent1, parent2):\n",
        "    return {\n",
        "        key: random.choice([parent1[key], parent2[key]]) for key in parent1\n",
        "    }\n",
        "\n",
        "def mutate(individual, mutation_rate=0.1):\n",
        "    for key in individual:\n",
        "        if random.random() < mutation_rate:\n",
        "            individual[key] = random.choice(param_ranges[key])\n",
        "    return individual\n",
        "\n",
        "def run_ga(X_val, population_size=6, generations=5):\n",
        "    population = [create_individual() for _ in range(population_size)]\n",
        "    best_losses = []\n",
        "\n",
        "    for generation in range(generations):\n",
        "        print(f\"\\n🔄 Generation {generation+1}\")\n",
        "        fitness_scores = []\n",
        "        for individual in population:\n",
        "            loss = evaluate_individual(individual, X_val)\n",
        "            fitness_scores.append((loss, individual))\n",
        "            print(f\"{individual} ➤ Loss: {loss:.4f}\")\n",
        "\n",
        "        fitness_scores.sort(key=lambda x: x[0])\n",
        "        best_losses.append(fitness_scores[0][0])\n",
        "\n",
        "        top_individuals = [ind for _, ind in fitness_scores[:population_size//2]]\n",
        "\n",
        "        new_population = top_individuals[:]\n",
        "        while len(new_population) < population_size:\n",
        "            parents = random.sample(top_individuals, 2)\n",
        "            child = crossover(parents[0], parents[1])\n",
        "            child = mutate(child)\n",
        "            new_population.append(child)\n",
        "\n",
        "        population = new_population\n",
        "\n",
        "\n",
        "    plt.plot(range(1, generations + 1), best_losses, marker='o')\n",
        "    plt.title(\"GA Optimization Progress\")\n",
        "    plt.xlabel(\"Generation\")\n",
        "    plt.ylabel(\"Best Loss\")\n",
        "    plt.grid(True)\n",
        "    plt.show()\n",
        "\n",
        "    best_loss, best_individual = min(fitness_scores, key=lambda x: x[0])\n",
        "    print(f\"\\n🏆 Best Hyperparameters: {best_individual} with Loss: {best_loss:.4f}\")\n",
        "    return best_individual"
      ]
    },
    {
      "cell_type": "code",
      "execution_count": null,
      "metadata": {
        "colab": {
          "base_uri": "https://localhost:8080/",
          "height": 1000
        },
        "id": "WSZGgPf-5gbj",
        "outputId": "5ecfc31f-da14-441e-8495-6b4497db49ff"
      },
      "outputs": [
        {
          "name": "stdout",
          "output_type": "stream",
          "text": [
            "\n",
            "🔄 Generation 1\n",
            "Epoch 1, Loss: 1.293336\n",
            "Epoch 10, Loss: 1.148229\n",
            "{'hidden_size': 32, 'bottleneck_size': 4, 'learning_rate': 0.05} ➤ Loss: 1.1377\n",
            "Epoch 1, Loss: 1.296243\n",
            "Epoch 10, Loss: 1.235549\n",
            "{'hidden_size': 8, 'bottleneck_size': 16, 'learning_rate': 0.05} ➤ Loss: 1.2293\n",
            "Epoch 1, Loss: 1.295616\n",
            "Epoch 10, Loss: 1.148655\n",
            "{'hidden_size': 32, 'bottleneck_size': 8, 'learning_rate': 0.05} ➤ Loss: 1.1379\n",
            "Epoch 1, Loss: 1.295735\n",
            "Epoch 10, Loss: 1.276669\n",
            "{'hidden_size': 32, 'bottleneck_size': 4, 'learning_rate': 0.005} ➤ Loss: 1.2746\n",
            "Epoch 1, Loss: 1.295340\n",
            "Epoch 10, Loss: 1.202015\n",
            "{'hidden_size': 16, 'bottleneck_size': 4, 'learning_rate': 0.05} ➤ Loss: 1.1935\n",
            "Epoch 1, Loss: 1.296128\n",
            "Epoch 10, Loss: 1.292253\n",
            "{'hidden_size': 32, 'bottleneck_size': 16, 'learning_rate': 0.001} ➤ Loss: 1.2918\n",
            "\n",
            "🔄 Generation 2\n",
            "Epoch 1, Loss: 1.294305\n",
            "Epoch 10, Loss: 1.148668\n",
            "{'hidden_size': 32, 'bottleneck_size': 4, 'learning_rate': 0.05} ➤ Loss: 1.1381\n",
            "Epoch 1, Loss: 1.293393\n",
            "Epoch 10, Loss: 1.147355\n",
            "{'hidden_size': 32, 'bottleneck_size': 8, 'learning_rate': 0.05} ➤ Loss: 1.1367\n",
            "Epoch 1, Loss: 1.296653\n",
            "Epoch 10, Loss: 1.203010\n",
            "{'hidden_size': 16, 'bottleneck_size': 4, 'learning_rate': 0.05} ➤ Loss: 1.1945\n",
            "Epoch 1, Loss: 1.297163\n",
            "Epoch 10, Loss: 1.149431\n",
            "{'hidden_size': 32, 'bottleneck_size': 8, 'learning_rate': 0.05} ➤ Loss: 1.1386\n",
            "Epoch 1, Loss: 1.296183\n",
            "Epoch 10, Loss: 1.149868\n",
            "{'hidden_size': 32, 'bottleneck_size': 4, 'learning_rate': 0.05} ➤ Loss: 1.1392\n",
            "Epoch 1, Loss: 1.291887\n",
            "Epoch 10, Loss: 1.147187\n",
            "{'hidden_size': 32, 'bottleneck_size': 4, 'learning_rate': 0.05} ➤ Loss: 1.1367\n",
            "\n",
            "🔄 Generation 3\n",
            "Epoch 1, Loss: 1.295408\n",
            "Epoch 10, Loss: 1.148898\n",
            "{'hidden_size': 32, 'bottleneck_size': 8, 'learning_rate': 0.05} ➤ Loss: 1.1382\n",
            "Epoch 1, Loss: 1.296169\n",
            "Epoch 10, Loss: 1.149666\n",
            "{'hidden_size': 32, 'bottleneck_size': 4, 'learning_rate': 0.05} ➤ Loss: 1.1390\n",
            "Epoch 1, Loss: 1.295476\n",
            "Epoch 10, Loss: 1.149263\n",
            "{'hidden_size': 32, 'bottleneck_size': 4, 'learning_rate': 0.05} ➤ Loss: 1.1386\n",
            "Epoch 1, Loss: 1.295125\n",
            "Epoch 10, Loss: 1.148605\n",
            "{'hidden_size': 32, 'bottleneck_size': 8, 'learning_rate': 0.05} ➤ Loss: 1.1379\n",
            "Epoch 1, Loss: 1.295893\n",
            "Epoch 10, Loss: 1.149492\n",
            "{'hidden_size': 32, 'bottleneck_size': 4, 'learning_rate': 0.05} ➤ Loss: 1.1388\n",
            "Epoch 1, Loss: 1.294503\n",
            "Epoch 10, Loss: 1.148705\n",
            "{'hidden_size': 32, 'bottleneck_size': 4, 'learning_rate': 0.05} ➤ Loss: 1.1381\n",
            "\n",
            "🔄 Generation 4\n",
            "Epoch 1, Loss: 1.295531\n",
            "Epoch 10, Loss: 1.148549\n",
            "{'hidden_size': 32, 'bottleneck_size': 8, 'learning_rate': 0.05} ➤ Loss: 1.1378\n",
            "Epoch 1, Loss: 1.296354\n",
            "Epoch 10, Loss: 1.149490\n",
            "{'hidden_size': 32, 'bottleneck_size': 4, 'learning_rate': 0.05} ➤ Loss: 1.1388\n",
            "Epoch 1, Loss: 1.295805\n",
            "Epoch 10, Loss: 1.149149\n",
            "{'hidden_size': 32, 'bottleneck_size': 8, 'learning_rate': 0.05} ➤ Loss: 1.1384\n",
            "Epoch 1, Loss: 1.296398\n",
            "Epoch 10, Loss: 1.149750\n",
            "{'hidden_size': 32, 'bottleneck_size': 4, 'learning_rate': 0.05} ➤ Loss: 1.1391\n",
            "Epoch 1, Loss: 1.294632\n",
            "Epoch 10, Loss: 1.148389\n",
            "{'hidden_size': 32, 'bottleneck_size': 8, 'learning_rate': 0.05} ➤ Loss: 1.1377\n",
            "Epoch 1, Loss: 1.294244\n",
            "Epoch 10, Loss: 1.148224\n",
            "{'hidden_size': 32, 'bottleneck_size': 8, 'learning_rate': 0.05} ➤ Loss: 1.1375\n",
            "\n",
            "🔄 Generation 5\n",
            "Epoch 1, Loss: 1.293944\n",
            "Epoch 10, Loss: 1.148302\n",
            "{'hidden_size': 32, 'bottleneck_size': 8, 'learning_rate': 0.05} ➤ Loss: 1.1376\n",
            "Epoch 1, Loss: 1.294190\n",
            "Epoch 10, Loss: 1.147743\n",
            "{'hidden_size': 32, 'bottleneck_size': 8, 'learning_rate': 0.05} ➤ Loss: 1.1370\n",
            "Epoch 1, Loss: 1.294759\n",
            "Epoch 10, Loss: 1.148272\n",
            "{'hidden_size': 32, 'bottleneck_size': 8, 'learning_rate': 0.05} ➤ Loss: 1.1375\n",
            "Epoch 1, Loss: 1.298263\n",
            "Epoch 10, Loss: 1.203172\n",
            "{'hidden_size': 16, 'bottleneck_size': 8, 'learning_rate': 0.05} ➤ Loss: 1.1944\n",
            "Epoch 1, Loss: 1.293870\n",
            "Epoch 10, Loss: 1.290015\n",
            "{'hidden_size': 32, 'bottleneck_size': 8, 'learning_rate': 0.001} ➤ Loss: 1.2896\n",
            "Epoch 1, Loss: 1.295553\n",
            "Epoch 10, Loss: 1.148747\n",
            "{'hidden_size': 32, 'bottleneck_size': 8, 'learning_rate': 0.05} ➤ Loss: 1.1380\n"
          ]
        },
        {
          "data": {
            "image/png": "[encoded data removed]",
            "text/plain": [
              "<Figure size 640x480 with 1 Axes>"
            ]
          },
          "metadata": {},
          "output_type": "display_data"
        },
        {
          "name": "stdout",
          "output_type": "stream",
          "text": [
            "\n",
            "🏆 Best Hyperparameters: {'hidden_size': 32, 'bottleneck_size': 8, 'learning_rate': 0.05} with Loss: 1.1370\n"
          ]
        }
      ],
      "source": [
        "X_train_ga, X_val_ga = train_test_split(X_train_normal, test_size=0.2, random_state=42)\n",
        "best_params = run_ga(X_val_ga)"
      ]
    },
    {
      "cell_type": "markdown",
      "metadata": {
        "id": "YskxLsF-5vOG"
      },
      "source": [
        "# Training the best autoencoder"
      ]
    },
    {
      "cell_type": "code",
      "execution_count": null,
      "metadata": {
        "colab": {
          "base_uri": "https://localhost:8080/"
        },
        "id": "zT8QlAn75jSZ",
        "outputId": "f35b8032-8eb8-457e-b10e-73b62f747482"
      },
      "outputs": [
        {
          "name": "stdout",
          "output_type": "stream",
          "text": [
            "Epoch 1, Loss: 1.135503\n",
            "Epoch 10, Loss: 0.988790\n",
            "Epoch 20, Loss: 0.911527\n",
            "Epoch 30, Loss: 0.874094\n",
            "Epoch 40, Loss: 0.853676\n",
            "Epoch 50, Loss: 0.841398\n"
          ]
        }
      ],
      "source": [
        "ae_best = Autoencoder(\n",
        "    input_size=X_train_normal.shape[1],\n",
        "    hidden_size=best_params[\"hidden_size\"],\n",
        "    bottleneck_size=best_params[\"bottleneck_size\"],\n",
        "    learning_rate=best_params[\"learning_rate\"]\n",
        ")\n",
        "ae_best.train(X_train_normal, epochs=50)"
      ]
    },
    {
      "cell_type": "markdown",
      "metadata": {
        "id": "4Voa1s_r6A-X"
      },
      "source": [
        "# Detecting Anomalies"
      ]
    },
    {
      "cell_type": "code",
      "execution_count": null,
      "metadata": {
        "id": "C5wB0GvL5z50"
      },
      "outputs": [],
      "source": [
        "reconstruction_error = ae_best.get_reconstruction_error(X_test)\n",
        "threshold = np.percentile(reconstruction_error, 95)\n",
        "y_pred = (reconstruction_error > threshold).astype(int)"
      ]
    },
    {
      "cell_type": "markdown",
      "metadata": {
        "id": "joMDOYk26G3T"
      },
      "source": [
        "# Evaluation"
      ]
    },
    {
      "cell_type": "code",
      "execution_count": null,
      "metadata": {
        "colab": {
          "base_uri": "https://localhost:8080/",
          "height": 643
        },
        "id": "XD01Jfqx6ED6",
        "outputId": "cd8d7c70-e360-42ec-8577-62a9e46aa683"
      },
      "outputs": [
        {
          "name": "stdout",
          "output_type": "stream",
          "text": [
            "              precision    recall  f1-score   support\n",
            "\n",
            "      Normal       0.45      0.99      0.62      9711\n",
            "      Attack       0.90      0.08      0.15     12833\n",
            "\n",
            "    accuracy                           0.47     22544\n",
            "   macro avg       0.68      0.53      0.38     22544\n",
            "weighted avg       0.71      0.47      0.35     22544\n",
            "\n"
          ]
        },
        {
          "data": {
            "image/png": "[encoded data removed]",
            "text/plain": [
              "<Figure size 1000x500 with 1 Axes>"
            ]
          },
          "metadata": {},
          "output_type": "display_data"
        }
      ],
      "source": [
        "from sklearn.metrics import classification_report\n",
        "\n",
        "print(classification_report(y_test, y_pred, target_names=[\"Normal\", \"Attack\"]))\n",
        "\n",
        "\n",
        "normal_errors = reconstruction_error[y_test == 0]\n",
        "attack_errors = reconstruction_error[y_test == 1]\n",
        "\n",
        "import matplotlib.pyplot as plt\n",
        "\n",
        "plt.figure(figsize=(10, 5))\n",
        "plt.hist(normal_errors, bins=50, alpha=0.6, label='Normal')\n",
        "plt.hist(attack_errors, bins=50, alpha=0.6, label='Attack')\n",
        "plt.axvline(threshold, color='red', linestyle='--', label='Threshold')\n",
        "plt.title(\"NSL-KDD Reconstruction Error Distribution\")\n",
        "plt.xlabel(\"Reconstruction Error\")\n",
        "plt.ylabel(\"Frequency\")\n",
        "plt.legend()\n",
        "plt.grid(True)\n",
        "plt.show()"
      ]
    }
  ],
  "metadata": {
    "accelerator": "GPU",
    "colab": {
      "gpuType": "A100",
      "machine_shape": "hm",
      "provenance": []
    },
    "kernelspec": {
      "display_name": "Python 3",
      "name": "python3"
    },
    "language_info": {
      "name": "python"
    }
  },
  "nbformat": 4,
  "nbformat_minor": 0
}
